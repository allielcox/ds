{
  "nbformat": 4,
  "nbformat_minor": 0,
  "metadata": {
    "colab": {
      "name": "alliecoxAMLmachinelearning.ipynb",
      "provenance": [],
      "collapsed_sections": []
    },
    "kernelspec": {
      "display_name": "Python 3",
      "language": "python",
      "name": "python3"
    },
    "language_info": {
      "codemirror_mode": {
        "name": "ipython",
        "version": 3
      },
      "file_extension": ".py",
      "mimetype": "text/x-python",
      "name": "python",
      "nbconvert_exporter": "python",
      "pygments_lexer": "ipython3",
      "version": "3.8.5"
    }
  },
  "cells": [
    {
      "cell_type": "markdown",
      "metadata": {
        "id": "NvWhcow-dvS8"
      },
      "source": [
        "# AML Dataset"
      ]
    },
    {
      "cell_type": "code",
      "metadata": {
        "id": "HRgkCSgGdty-"
      },
      "source": [
        "%%capture\n",
        "!pip install category_encoders==2.*"
      ],
      "execution_count": null,
      "outputs": []
    },
    {
      "cell_type": "code",
      "metadata": {
        "id": "HF70Jp0x4NJU"
      },
      "source": [
        "from category_encoders import OrdinalEncoder\n",
        "from sklearn.ensemble import RandomForestClassifier\n",
        "from sklearn.model_selection import train_test_split\n",
        "from sklearn.metrics import accuracy_score\n",
        "from sklearn.impute import SimpleImputer\n",
        "from sklearn.model_selection import cross_val_score, validation_curve # k-fold CV\n",
        "from sklearn.model_selection import GridSearchCV, RandomizedSearchCV # Hyperparameter tuning\n",
        "from sklearn.pipeline import make_pipeline\n",
        "from sklearn.tree import DecisionTreeClassifier\n",
        "import numpy as np\n",
        "import pandas as pd\n",
        "import matplotlib.pyplot as plt\n",
        "from xgboost import XGBClassifier \n",
        "from category_encoders import OneHotEncoder\n",
        "from sklearn.preprocessing import StandardScaler\n",
        "from sklearn.linear_model import LogisticRegression\n",
        "from sklearn.metrics import classification_report, plot_confusion_matrix"
      ],
      "execution_count": null,
      "outputs": []
    },
    {
      "cell_type": "code",
      "metadata": {
        "colab": {
          "base_uri": "https://localhost:8080/"
        },
        "id": "X2e6fPUATxLZ",
        "outputId": "b276b278-736f-4cf2-d559-bba13bc5e214"
      },
      "source": [
        "filepath = 'aml_ohsu_2018_clinical_data.tsv'\n",
        "\n",
        "def wrangle(filepath):\n",
        "\n",
        "  df = pd.read_csv(\"/content/aml_ohsu_2018_clinical_data.tsv\", sep = '\\t')\n",
        "\n",
        "  #drop constant columns - I know all of these people have Leukemia\n",
        "  df.drop(columns = ['Cancer Type'], inplace= True)\n",
        "  df.drop(columns = ['Study ID'], inplace = True)\n",
        "\n",
        "  #dropping HCC\n",
        "  cutoff = 100\n",
        "  drop_cols = [col for col in df.select_dtypes('object').columns\n",
        "               if df[col].nunique() > cutoff]\n",
        "  df.drop(columns= drop_cols, inplace=True)\n",
        "\n",
        "  #columns to drop that we wont be using in our prediction\n",
        "  df.drop(columns = ['Age At Procurement', 'BRAF mutation', 'Diagnosis', \n",
        "                     'Diagnosis at Inclusion', 'ELN 2008 Risk Classification', \n",
        "                     'Group', 'Negative for FLT3', 'Fusion', 'Group', \n",
        "                     'Response to Induction Treatment', 'Oncotree Code',\n",
        "                     'Platform', 'Site of Sample', 'Sample Timepoint', 'Somatic Status',\n",
        "                     'Specific Diagnosis at Acquisition', 'Specific Diagnosis at Inclusion'],\n",
        "          inplace = True)\n",
        "\n",
        "  #leaky data - seeing treatment regimen counts and type of treatment\n",
        "  #received tells us how sick someone likely is\n",
        "  \n",
        "  df.drop(columns = ['Chemotherapy', 'Cumulative Treatment Regimen Count', 'Cumulative Treatment Types', \n",
        "                     'Cumulative Treatment Type Count', 'Current Stage', \n",
        "                     'Duration of Induction Treatment', 'Most Recent Treatment Duration', \n",
        "                     'Most Recent Treatment Type', 'Cause of death source', 'Treatment Type', \n",
        "                     'Type of Induction Treatment', 'ELN 2017 Risk Classification',\n",
        "                     'Overall Survival (Months)'], inplace = True)\n",
        "  \n",
        "  df.drop(columns = ['CEBPA Mutation','Sample collection center', 'DNMT3A Mutation', \n",
        "                     'IDH1 Mutation', 'IDH2 Negative', 'NRAS Mutation', 'Immature Granulocytes Percent in Peripheral Blood',\n",
        "                     'Nucleated RBCs Percent in Peripheral Blood', 'TP53 Mutation',\n",
        "                     'Prior Diagnosis of Cancer', 'Prior Malignancy Radiation Therapy'], inplace = True)\n",
        "  \n",
        "  df = df.dropna(subset=['Overall Survival Status'])\n",
        "\n",
        "  \n",
        "\n",
        "  object_cols = [col for col in df.select_dtypes('object').columns]\n",
        "  df[object_cols] = df[object_cols].astype(str)\n",
        "\n",
        "  return df\n",
        "\n",
        "df = wrangle(filepath)\n",
        "\n",
        "df['Overall Survival Status'].value_counts(normalize = True)"
      ],
      "execution_count": null,
      "outputs": [
        {
          "output_type": "execute_result",
          "data": {
            "text/plain": [
              "1:DECEASED    0.584843\n",
              "0:LIVING      0.415157\n",
              "Name: Overall Survival Status, dtype: float64"
            ]
          },
          "metadata": {},
          "execution_count": 110
        }
      ]
    },
    {
      "cell_type": "code",
      "metadata": {
        "colab": {
          "base_uri": "https://localhost:8080/"
        },
        "id": "KYSpUv9uYBAo",
        "outputId": "fd0e7622-adc4-46ba-9a60-1d1269b7bfb1"
      },
      "source": [
        "# Determining my feature matrix X and Target Vector Y\n",
        "\n",
        "X = df.drop(columns = 'Overall Survival Status')\n",
        "y = df['Overall Survival Status']\n",
        "y.shape\n",
        "df['Overall Survival Status'].value_counts()"
      ],
      "execution_count": null,
      "outputs": [
        {
          "output_type": "execute_result",
          "data": {
            "text/plain": [
              "1:DECEASED    355\n",
              "0:LIVING      252\n",
              "Name: Overall Survival Status, dtype: int64"
            ]
          },
          "metadata": {},
          "execution_count": 111
        }
      ]
    },
    {
      "cell_type": "code",
      "metadata": {
        "id": "dXChvgdZYb_t",
        "colab": {
          "base_uri": "https://localhost:8080/"
        },
        "outputId": "a4d730b1-ebc2-483a-a77d-0e48d3dfbc61"
      },
      "source": [
        "# Splitting into training and validation sets\n",
        "\n",
        "X_train, X_val, y_train, y_val = train_test_split(X, y, train_size=0.80, test_size=0.20, random_state=42)\n",
        "y_train.head()"
      ],
      "execution_count": null,
      "outputs": [
        {
          "output_type": "execute_result",
          "data": {
            "text/plain": [
              "9      1:DECEASED\n",
              "242    1:DECEASED\n",
              "653    1:DECEASED\n",
              "568      0:LIVING\n",
              "138      0:LIVING\n",
              "Name: Overall Survival Status, dtype: object"
            ]
          },
          "metadata": {},
          "execution_count": 112
        }
      ]
    },
    {
      "cell_type": "code",
      "metadata": {
        "id": "NB84qgRRYdDF",
        "colab": {
          "base_uri": "https://localhost:8080/"
        },
        "outputId": "09acbaa0-9cd5-495d-d978-3525b2d5cebd"
      },
      "source": [
        "# baseline accuracy\n",
        "y_train.value_counts(normalize=True).max()"
      ],
      "execution_count": null,
      "outputs": [
        {
          "output_type": "execute_result",
          "data": {
            "text/plain": [
              "0.5855670103092784"
            ]
          },
          "metadata": {},
          "execution_count": 113
        }
      ]
    },
    {
      "cell_type": "code",
      "metadata": {
        "id": "eag2zYiQYf6q"
      },
      "source": [
        "# XGBoost model\n",
        "model_xgb = make_pipeline(\n",
        "    OrdinalEncoder(),\n",
        "    SimpleImputer(strategy='mean'),\n",
        "    XGBClassifier(random_state=42, n_estimators = 50))\n",
        "\n",
        "model_xgb.fit(X_train,y_train);"
      ],
      "execution_count": null,
      "outputs": []
    },
    {
      "cell_type": "code",
      "metadata": {
        "id": "jaXMenXoZ0D6",
        "colab": {
          "base_uri": "https://localhost:8080/"
        },
        "outputId": "c9053c9a-3fa8-4454-d3c8-39e9ba52a346"
      },
      "source": [
        "# show me the money\n",
        "print('Training Accuracy', model_xgb.score(X_train, y_train))\n",
        "print('Validation Accuracy', model_xgb.score(X_val, y_val))"
      ],
      "execution_count": null,
      "outputs": [
        {
          "output_type": "stream",
          "name": "stdout",
          "text": [
            "Training Accuracy 0.8742268041237113\n",
            "Validation Accuracy 0.639344262295082\n"
          ]
        }
      ]
    },
    {
      "cell_type": "code",
      "metadata": {
        "id": "wupyZysm_avz"
      },
      "source": [
        "#lets make some decisions with some trees\n",
        "model_dc = make_pipeline(\n",
        "    OrdinalEncoder(),\n",
        "    SimpleImputer(strategy='mean'),\n",
        "    DecisionTreeClassifier(random_state=42,max_depth=5))\n",
        "\n",
        "model_dc.fit(X_train,y_train);"
      ],
      "execution_count": null,
      "outputs": []
    },
    {
      "cell_type": "code",
      "metadata": {
        "id": "4YIx3VWzFKhQ",
        "colab": {
          "base_uri": "https://localhost:8080/"
        },
        "outputId": "b3593057-5542-43af-92d5-d8af2c1d1d49"
      },
      "source": [
        "print('Training Accuracy', model_dc.score(X_train, y_train))\n",
        "print('Validation Accuracy', model_dc.score(X_val, y_val))"
      ],
      "execution_count": null,
      "outputs": [
        {
          "output_type": "stream",
          "name": "stdout",
          "text": [
            "Training Accuracy 0.777319587628866\n",
            "Validation Accuracy 0.6557377049180327\n"
          ]
        }
      ]
    },
    {
      "cell_type": "code",
      "metadata": {
        "id": "r1tp2pnxqUvB",
        "colab": {
          "base_uri": "https://localhost:8080/"
        },
        "outputId": "3c3afe6a-e268-4e31-ec4c-d9a0de00bb3f"
      },
      "source": [
        "# logistic regressionnnnn\n",
        "model_lr = make_pipeline(\n",
        "    OneHotEncoder(use_cat_names=True), \n",
        "    SimpleImputer(strategy='mean'), \n",
        "    StandardScaler(), \n",
        "    LogisticRegression()\n",
        ")\n",
        "\n",
        "model_lr.fit(X_train, y_train);\n",
        "\n",
        "print('Training Accuracy', model_lr.score(X_train, y_train))\n",
        "print('Validation Accuracy', model_lr.score(X_val, y_val))"
      ],
      "execution_count": null,
      "outputs": [
        {
          "output_type": "stream",
          "name": "stdout",
          "text": [
            "Training Accuracy 0.7938144329896907\n",
            "Validation Accuracy 0.7540983606557377\n"
          ]
        }
      ]
    },
    {
      "cell_type": "code",
      "metadata": {
        "id": "Wig1Ual7_oCo"
      },
      "source": [
        "#random forest\n",
        "model_rf = make_pipeline(\n",
        "    OrdinalEncoder(),\n",
        "    SimpleImputer(strategy='mean'),\n",
        "    RandomForestClassifier(n_estimators = 25, max_depth = 5, max_features = 18, random_state=42, n_jobs=-1))\n",
        "\n",
        "model_rf.fit(X_train, y_train);\n"
      ],
      "execution_count": null,
      "outputs": []
    },
    {
      "cell_type": "code",
      "metadata": {
        "id": "ZNcJ7itODxqO",
        "colab": {
          "base_uri": "https://localhost:8080/"
        },
        "outputId": "112b695e-e808-4c89-b1a1-fa7a62b04142"
      },
      "source": [
        "print('Training Accuracy', model_rf.score(X_train, y_train))\n",
        "print('Validation Accuracy', model_rf.score(X_val, y_val))"
      ],
      "execution_count": null,
      "outputs": [
        {
          "output_type": "stream",
          "name": "stdout",
          "text": [
            "Training Accuracy 0.8494845360824742\n",
            "Validation Accuracy 0.639344262295082\n"
          ]
        }
      ]
    },
    {
      "cell_type": "code",
      "metadata": {
        "id": "bXLLxnTDs328",
        "colab": {
          "base_uri": "https://localhost:8080/",
          "height": 503
        },
        "outputId": "e0f74482-39b2-4728-a9f6-bf86fb92ca28"
      },
      "source": [
        "#confusion matrix for logistic regression\n",
        "\n",
        "print(classification_report(y_val, model_lr.predict(X_val)))\n",
        "plot_confusion_matrix(model_lr, X_val, y_val)"
      ],
      "execution_count": null,
      "outputs": [
        {
          "output_type": "stream",
          "name": "stdout",
          "text": [
            "              precision    recall  f1-score   support\n",
            "\n",
            "    0:LIVING       0.77      0.59      0.67        51\n",
            "  1:DECEASED       0.75      0.87      0.81        71\n",
            "\n",
            "    accuracy                           0.75       122\n",
            "   macro avg       0.76      0.73      0.74       122\n",
            "weighted avg       0.76      0.75      0.75       122\n",
            "\n"
          ]
        },
        {
          "output_type": "stream",
          "name": "stderr",
          "text": [
            "/usr/local/lib/python3.7/dist-packages/sklearn/utils/deprecation.py:87: FutureWarning: Function plot_confusion_matrix is deprecated; Function `plot_confusion_matrix` is deprecated in 1.0 and will be removed in 1.2. Use one of the class methods: ConfusionMatrixDisplay.from_predictions or ConfusionMatrixDisplay.from_estimator.\n",
            "  warnings.warn(msg, category=FutureWarning)\n"
          ]
        },
        {
          "output_type": "execute_result",
          "data": {
            "text/plain": [
              "<sklearn.metrics._plot.confusion_matrix.ConfusionMatrixDisplay at 0x7f6aa78d3410>"
            ]
          },
          "metadata": {},
          "execution_count": 152
        },
        {
          "output_type": "display_data",
          "data": {
            "image/png": "[encoded data removed]",
            "text/plain": [
              "<Figure size 432x288 with 2 Axes>"
            ]
          },
          "metadata": {
            "needs_background": "light"
          }
        }
      ]
    },
    {
      "cell_type": "code",
      "metadata": {
        "id": "m_ZpJSwObNl_"
      },
      "source": [
        "cv_scores_dc = cross_val_score(model_dc, X, y, cv=5,n_jobs=-1)\n",
        "cv_scores_rf = cross_val_score(model_rf, X, y, cv=5,n_jobs=-1)"
      ],
      "execution_count": null,
      "outputs": []
    },
    {
      "cell_type": "code",
      "metadata": {
        "id": "I4fO6aXEbNiQ",
        "colab": {
          "base_uri": "https://localhost:8080/"
        },
        "outputId": "367b3261-3fc6-4dda-8532-0b5209b86655"
      },
      "source": [
        "print('CV score DecisionTreeClassifier')\n",
        "print(cv_scores_dc) \n",
        "print('Mean CV accuracy score:', cv_scores_dc.mean())\n",
        "print('STD CV accuracy score:', cv_scores_dc.std())"
      ],
      "execution_count": null,
      "outputs": [
        {
          "output_type": "stream",
          "name": "stdout",
          "text": [
            "CV score DecisionTreeClassifier\n",
            "[0.6147541  0.69672131 0.66115702 0.59504132 0.56198347]\n",
            "Mean CV accuracy score: 0.6259314456035767\n",
            "STD CV accuracy score: 0.0477923064813315\n"
          ]
        }
      ]
    }
  ]
}